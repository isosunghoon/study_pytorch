{
 "cells": [
  {
   "cell_type": "markdown",
   "metadata": {},
   "source": [
    "## Simple DNN on MNIST dataset\n",
    "\n",
    "간단한 Pytorch 신경망 예제"
   ]
  },
  {
   "cell_type": "markdown",
   "metadata": {},
   "source": [
    "#### Load Data"
   ]
  },
  {
   "cell_type": "code",
   "execution_count": 1,
   "metadata": {},
   "outputs": [],
   "source": [
    "import os\n",
    "import torch\n",
    "from torch import nn\n",
    "from torch.utils.data import DataLoader\n",
    "from torchvision import datasets, transforms"
   ]
  },
  {
   "cell_type": "code",
   "execution_count": 2,
   "metadata": {},
   "outputs": [],
   "source": [
    "training_data = datasets.FashionMNIST(\n",
    "    root=\"data\",\n",
    "    train=True,\n",
    "    download=True,\n",
    "    transform=transforms.ToTensor()\n",
    ")\n",
    "\n",
    "test_data = datasets.FashionMNIST(\n",
    "    root=\"data\",\n",
    "    train=False,\n",
    "    download=True,\n",
    "    transform=transforms.ToTensor()\n",
    ")"
   ]
  },
  {
   "cell_type": "code",
   "execution_count": 3,
   "metadata": {},
   "outputs": [],
   "source": [
    "train_dataloader = DataLoader(training_data, batch_size=64)\n",
    "test_dataloader = DataLoader(test_data, batch_size=64)"
   ]
  },
  {
   "cell_type": "markdown",
   "metadata": {},
   "source": [
    "#### Define Model"
   ]
  },
  {
   "cell_type": "code",
   "execution_count": 4,
   "metadata": {},
   "outputs": [],
   "source": [
    "class NeuralNetwork(nn.Module):\n",
    "    def __init__(self):\n",
    "        super().__init__()\n",
    "        self.flatten = nn.Flatten()\n",
    "        self.main_layer = nn.Sequential(\n",
    "            nn.Linear(28*28, 512),\n",
    "            nn.ReLU(),\n",
    "            nn.Linear(512, 256),\n",
    "            nn.ReLU(),\n",
    "            nn.Linear(256, 10)\n",
    "        )\n",
    "\n",
    "    def forward(self, x):\n",
    "        x = self.flatten(x)\n",
    "        x = self.main_layer(x)\n",
    "        return x"
   ]
  },
  {
   "cell_type": "code",
   "execution_count": 5,
   "metadata": {},
   "outputs": [],
   "source": [
    "model = NeuralNetwork()"
   ]
  },
  {
   "cell_type": "markdown",
   "metadata": {},
   "source": [
    "#### Train Model"
   ]
  },
  {
   "cell_type": "code",
   "execution_count": 6,
   "metadata": {},
   "outputs": [],
   "source": [
    "learning_rate = 1e-3\n",
    "batch_size = 64\n",
    "epochs = 5"
   ]
  },
  {
   "cell_type": "code",
   "execution_count": 7,
   "metadata": {},
   "outputs": [],
   "source": [
    "loss_fn = nn.CrossEntropyLoss()\n",
    "optimizer = torch.optim.Adam(model.parameters(), lr=learning_rate)"
   ]
  },
  {
   "cell_type": "code",
   "execution_count": 8,
   "metadata": {},
   "outputs": [],
   "source": [
    "def train_loop(dataloader, model, loss_fn, optimizer):\n",
    "    model.train() #모델을 train mode로 설정\n",
    "\n",
    "    for batch, (X, y) in enumerate(dataloader):\n",
    "        pred = model(X)\n",
    "        loss = loss_fn(pred, y)\n",
    "\n",
    "        loss.backward()\n",
    "        optimizer.step()\n",
    "        optimizer.zero_grad()\n",
    "\n",
    "        if batch % 100 == 0:\n",
    "            print(f'loss: {loss} [{batch*batch_size}/{len(dataloader.dataset)}]')\n",
    "\n",
    "\n",
    "def test_loop(dataloader, model, loss_fn):\n",
    "    model.eval() #모델을 evaluation mode로 설정\n",
    "    size = len(dataloader.dataset)\n",
    "    num_batches = len(dataloader)\n",
    "    test_loss, correct = 0, 0\n",
    "\n",
    "    with torch.no_grad(): #gradient 계산 안 하도록 함\n",
    "        for X, y in dataloader:\n",
    "            pred = model(X)\n",
    "            test_loss += loss_fn(pred, y).item()\n",
    "            correct += (pred.argmax(1) == y).type(torch.float).sum().item()\n",
    "\n",
    "    test_loss /= num_batches\n",
    "    correct /= size\n",
    "    print(f\"Test Error: \\n Accuracy: {100*correct}%, Avg loss: {test_loss} \\n\")"
   ]
  },
  {
   "cell_type": "code",
   "execution_count": 9,
   "metadata": {},
   "outputs": [
    {
     "name": "stdout",
     "output_type": "stream",
     "text": [
      "Epoch 1\n",
      "loss: 2.29947829246521 [0/60000]\n",
      "loss: 0.590912401676178 [6400/60000]\n",
      "loss: 0.4127355217933655 [12800/60000]\n",
      "loss: 0.5082762837409973 [19200/60000]\n",
      "loss: 0.4503677189350128 [25600/60000]\n",
      "loss: 0.4467264413833618 [32000/60000]\n",
      "loss: 0.36312004923820496 [38400/60000]\n",
      "loss: 0.5310969352722168 [44800/60000]\n",
      "loss: 0.4993456304073334 [51200/60000]\n",
      "loss: 0.5272765159606934 [57600/60000]\n",
      "Test Error: \n",
      " Accuracy: 84.11%, Avg loss: 0.434192882316887 \n",
      "\n",
      "Epoch 2\n",
      "loss: 0.26273953914642334 [0/60000]\n",
      "loss: 0.35331833362579346 [6400/60000]\n",
      "loss: 0.276069313287735 [12800/60000]\n",
      "loss: 0.3917500972747803 [19200/60000]\n",
      "loss: 0.39774423837661743 [25600/60000]\n",
      "loss: 0.3779125213623047 [32000/60000]\n",
      "loss: 0.3158171474933624 [38400/60000]\n",
      "loss: 0.4803829789161682 [44800/60000]\n",
      "loss: 0.3958195745944977 [51200/60000]\n",
      "loss: 0.45014166831970215 [57600/60000]\n",
      "Test Error: \n",
      " Accuracy: 85.5%, Avg loss: 0.39023692991323533 \n",
      "\n",
      "Epoch 3\n",
      "loss: 0.22171302139759064 [0/60000]\n",
      "loss: 0.33228784799575806 [6400/60000]\n",
      "loss: 0.22059257328510284 [12800/60000]\n",
      "loss: 0.3338015675544739 [19200/60000]\n",
      "loss: 0.376762717962265 [25600/60000]\n",
      "loss: 0.37115511298179626 [32000/60000]\n",
      "loss: 0.27958381175994873 [38400/60000]\n",
      "loss: 0.4708070755004883 [44800/60000]\n",
      "loss: 0.3641635477542877 [51200/60000]\n",
      "loss: 0.3987332284450531 [57600/60000]\n",
      "Test Error: \n",
      " Accuracy: 86.26%, Avg loss: 0.3725953807306897 \n",
      "\n",
      "Epoch 4\n",
      "loss: 0.19918984174728394 [0/60000]\n",
      "loss: 0.29734838008880615 [6400/60000]\n",
      "loss: 0.21482349932193756 [12800/60000]\n",
      "loss: 0.3151581287384033 [19200/60000]\n",
      "loss: 0.3781231641769409 [25600/60000]\n",
      "loss: 0.3436586260795593 [32000/60000]\n",
      "loss: 0.24419967830181122 [38400/60000]\n",
      "loss: 0.41595155000686646 [44800/60000]\n",
      "loss: 0.29190710186958313 [51200/60000]\n",
      "loss: 0.3527929186820984 [57600/60000]\n",
      "Test Error: \n",
      " Accuracy: 86.92%, Avg loss: 0.35554501404807826 \n",
      "\n",
      "Epoch 5\n",
      "loss: 0.20941899716854095 [0/60000]\n",
      "loss: 0.2933083474636078 [6400/60000]\n",
      "loss: 0.21991050243377686 [12800/60000]\n",
      "loss: 0.2670212686061859 [19200/60000]\n",
      "loss: 0.3845994770526886 [25600/60000]\n",
      "loss: 0.310659795999527 [32000/60000]\n",
      "loss: 0.22569140791893005 [38400/60000]\n",
      "loss: 0.35637593269348145 [44800/60000]\n",
      "loss: 0.27274274826049805 [51200/60000]\n",
      "loss: 0.34537217020988464 [57600/60000]\n",
      "Test Error: \n",
      " Accuracy: 87.4%, Avg loss: 0.35402776253451207 \n",
      "\n",
      "Done!\n"
     ]
    }
   ],
   "source": [
    "for t in range(epochs):\n",
    "    print(f\"Epoch {t+1}\")\n",
    "    train_loop(train_dataloader, model, loss_fn, optimizer)\n",
    "    test_loop(test_dataloader, model, loss_fn)\n",
    "print(\"Done!\")"
   ]
  },
  {
   "cell_type": "markdown",
   "metadata": {},
   "source": [
    "#### Save Model"
   ]
  },
  {
   "cell_type": "code",
   "execution_count": 10,
   "metadata": {},
   "outputs": [],
   "source": [
    "torch.save(model, './data/models/mnistDNN.pth')"
   ]
  }
 ],
 "metadata": {
  "kernelspec": {
   "display_name": "base",
   "language": "python",
   "name": "python3"
  },
  "language_info": {
   "codemirror_mode": {
    "name": "ipython",
    "version": 3
   },
   "file_extension": ".py",
   "mimetype": "text/x-python",
   "name": "python",
   "nbconvert_exporter": "python",
   "pygments_lexer": "ipython3",
   "version": "3.12.2"
  }
 },
 "nbformat": 4,
 "nbformat_minor": 2
}
